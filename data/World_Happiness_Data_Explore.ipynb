{
 "cells": [
  {
   "cell_type": "code",
   "execution_count": 117,
   "metadata": {
    "collapsed": true
   },
   "outputs": [],
   "source": [
    "import csv\n",
    "import pandas as pd\n",
    "import os"
   ]
  },
  {
   "cell_type": "code",
   "execution_count": 1,
   "metadata": {
    "collapsed": true
   },
   "outputs": [],
   "source": [
    "def get_csv(path):\n",
    "    '''\n",
    "    Read in a csv and convert to Pandas Dataframe\n",
    "    \n",
    "    :params\n",
    "    :path - string of full file path of the csv\n",
    "    :return - Pandas Dataframe of csv\n",
    "    '''\n",
    "    df = pd.read_csv(path)\n",
    "    return df"
   ]
  },
  {
   "cell_type": "code",
   "execution_count": 119,
   "metadata": {
    "collapsed": false
   },
   "outputs": [],
   "source": [
    "# Import all the csv data of the three years into Pandas for analysis\n",
    "file_names = ['2015.csv', '2016.csv', '2017.csv']\n",
    "dfs = []\n",
    "\n",
    "for file_ in file_names:\n",
    "    df = get_csv(os.getcwd()+'/'+file_)\n",
    "    # Add a column for year\n",
    "    df['Year'] = file_[:4]\n",
    "    # Remove \"Happiness Rank\" since it is not in all of the data and is apparent by the order of the countries\n",
    "    if 'Happiness Rank' in df.columns:\n",
    "        del df[\"Happiness Rank\"]\n",
    "    dfs.append(df)\n",
    "\n",
    "df = pd.concat(dfs)"
   ]
  },
  {
   "cell_type": "code",
   "execution_count": 120,
   "metadata": {
    "collapsed": false
   },
   "outputs": [
    {
     "name": "stdout",
     "output_type": "stream",
     "text": [
      "Dimensions: (470, 16)\n"
     ]
    },
    {
     "data": {
      "text/html": [
       "<div>\n",
       "<table border=\"1\" class=\"dataframe\">\n",
       "  <thead>\n",
       "    <tr style=\"text-align: right;\">\n",
       "      <th></th>\n",
       "      <th>Country</th>\n",
       "      <th>Dystopia Residual</th>\n",
       "      <th>Economy (GDP per Capita)</th>\n",
       "      <th>Family</th>\n",
       "      <th>Freedom</th>\n",
       "      <th>Generosity</th>\n",
       "      <th>Happiness Score</th>\n",
       "      <th>Health (Life Expectancy)</th>\n",
       "      <th>Lower Confidence Interval</th>\n",
       "      <th>Region</th>\n",
       "      <th>Standard Error</th>\n",
       "      <th>Trust (Government Corruption)</th>\n",
       "      <th>Upper Confidence Interval</th>\n",
       "      <th>Whisker-high</th>\n",
       "      <th>Whisker-low</th>\n",
       "      <th>Year</th>\n",
       "    </tr>\n",
       "  </thead>\n",
       "  <tbody>\n",
       "    <tr>\n",
       "      <th>0</th>\n",
       "      <td>Switzerland</td>\n",
       "      <td>2.51738</td>\n",
       "      <td>1.39651</td>\n",
       "      <td>1.34951</td>\n",
       "      <td>0.66557</td>\n",
       "      <td>0.29678</td>\n",
       "      <td>7.587</td>\n",
       "      <td>0.94143</td>\n",
       "      <td>NaN</td>\n",
       "      <td>Western Europe</td>\n",
       "      <td>0.03411</td>\n",
       "      <td>0.41978</td>\n",
       "      <td>NaN</td>\n",
       "      <td>NaN</td>\n",
       "      <td>NaN</td>\n",
       "      <td>2015</td>\n",
       "    </tr>\n",
       "    <tr>\n",
       "      <th>1</th>\n",
       "      <td>Iceland</td>\n",
       "      <td>2.70201</td>\n",
       "      <td>1.30232</td>\n",
       "      <td>1.40223</td>\n",
       "      <td>0.62877</td>\n",
       "      <td>0.43630</td>\n",
       "      <td>7.561</td>\n",
       "      <td>0.94784</td>\n",
       "      <td>NaN</td>\n",
       "      <td>Western Europe</td>\n",
       "      <td>0.04884</td>\n",
       "      <td>0.14145</td>\n",
       "      <td>NaN</td>\n",
       "      <td>NaN</td>\n",
       "      <td>NaN</td>\n",
       "      <td>2015</td>\n",
       "    </tr>\n",
       "    <tr>\n",
       "      <th>2</th>\n",
       "      <td>Denmark</td>\n",
       "      <td>2.49204</td>\n",
       "      <td>1.32548</td>\n",
       "      <td>1.36058</td>\n",
       "      <td>0.64938</td>\n",
       "      <td>0.34139</td>\n",
       "      <td>7.527</td>\n",
       "      <td>0.87464</td>\n",
       "      <td>NaN</td>\n",
       "      <td>Western Europe</td>\n",
       "      <td>0.03328</td>\n",
       "      <td>0.48357</td>\n",
       "      <td>NaN</td>\n",
       "      <td>NaN</td>\n",
       "      <td>NaN</td>\n",
       "      <td>2015</td>\n",
       "    </tr>\n",
       "    <tr>\n",
       "      <th>3</th>\n",
       "      <td>Norway</td>\n",
       "      <td>2.46531</td>\n",
       "      <td>1.45900</td>\n",
       "      <td>1.33095</td>\n",
       "      <td>0.66973</td>\n",
       "      <td>0.34699</td>\n",
       "      <td>7.522</td>\n",
       "      <td>0.88521</td>\n",
       "      <td>NaN</td>\n",
       "      <td>Western Europe</td>\n",
       "      <td>0.03880</td>\n",
       "      <td>0.36503</td>\n",
       "      <td>NaN</td>\n",
       "      <td>NaN</td>\n",
       "      <td>NaN</td>\n",
       "      <td>2015</td>\n",
       "    </tr>\n",
       "    <tr>\n",
       "      <th>4</th>\n",
       "      <td>Canada</td>\n",
       "      <td>2.45176</td>\n",
       "      <td>1.32629</td>\n",
       "      <td>1.32261</td>\n",
       "      <td>0.63297</td>\n",
       "      <td>0.45811</td>\n",
       "      <td>7.427</td>\n",
       "      <td>0.90563</td>\n",
       "      <td>NaN</td>\n",
       "      <td>North America</td>\n",
       "      <td>0.03553</td>\n",
       "      <td>0.32957</td>\n",
       "      <td>NaN</td>\n",
       "      <td>NaN</td>\n",
       "      <td>NaN</td>\n",
       "      <td>2015</td>\n",
       "    </tr>\n",
       "  </tbody>\n",
       "</table>\n",
       "</div>"
      ],
      "text/plain": [
       "       Country  Dystopia Residual  Economy (GDP per Capita)   Family  Freedom  \\\n",
       "0  Switzerland            2.51738                   1.39651  1.34951  0.66557   \n",
       "1      Iceland            2.70201                   1.30232  1.40223  0.62877   \n",
       "2      Denmark            2.49204                   1.32548  1.36058  0.64938   \n",
       "3       Norway            2.46531                   1.45900  1.33095  0.66973   \n",
       "4       Canada            2.45176                   1.32629  1.32261  0.63297   \n",
       "\n",
       "   Generosity  Happiness Score  Health (Life Expectancy)  \\\n",
       "0     0.29678            7.587                   0.94143   \n",
       "1     0.43630            7.561                   0.94784   \n",
       "2     0.34139            7.527                   0.87464   \n",
       "3     0.34699            7.522                   0.88521   \n",
       "4     0.45811            7.427                   0.90563   \n",
       "\n",
       "   Lower Confidence Interval          Region  Standard Error  \\\n",
       "0                        NaN  Western Europe         0.03411   \n",
       "1                        NaN  Western Europe         0.04884   \n",
       "2                        NaN  Western Europe         0.03328   \n",
       "3                        NaN  Western Europe         0.03880   \n",
       "4                        NaN   North America         0.03553   \n",
       "\n",
       "   Trust (Government Corruption)  Upper Confidence Interval  Whisker-high  \\\n",
       "0                        0.41978                        NaN           NaN   \n",
       "1                        0.14145                        NaN           NaN   \n",
       "2                        0.48357                        NaN           NaN   \n",
       "3                        0.36503                        NaN           NaN   \n",
       "4                        0.32957                        NaN           NaN   \n",
       "\n",
       "   Whisker-low  Year  \n",
       "0          NaN  2015  \n",
       "1          NaN  2015  \n",
       "2          NaN  2015  \n",
       "3          NaN  2015  \n",
       "4          NaN  2015  "
      ]
     },
     "execution_count": 120,
     "metadata": {},
     "output_type": "execute_result"
    }
   ],
   "source": [
    "print(\"Dimensions: {:>3}\".format(df.shape))\n",
    "df.head()"
   ]
  },
  {
   "cell_type": "code",
   "execution_count": 121,
   "metadata": {
    "collapsed": false
   },
   "outputs": [
    {
     "data": {
      "text/html": [
       "<div>\n",
       "<table border=\"1\" class=\"dataframe\">\n",
       "  <thead>\n",
       "    <tr style=\"text-align: right;\">\n",
       "      <th></th>\n",
       "      <th>Country</th>\n",
       "      <th>Dystopia Residual</th>\n",
       "      <th>Economy (GDP per Capita)</th>\n",
       "      <th>Family</th>\n",
       "      <th>Freedom</th>\n",
       "      <th>Generosity</th>\n",
       "      <th>Happiness Score</th>\n",
       "      <th>Health (Life Expectancy)</th>\n",
       "      <th>Lower Confidence Interval</th>\n",
       "      <th>Region</th>\n",
       "      <th>Standard Error</th>\n",
       "      <th>Trust (Government Corruption)</th>\n",
       "      <th>Upper Confidence Interval</th>\n",
       "      <th>Whisker-high</th>\n",
       "      <th>Whisker-low</th>\n",
       "      <th>Year</th>\n",
       "    </tr>\n",
       "  </thead>\n",
       "  <tbody>\n",
       "    <tr>\n",
       "      <th>150</th>\n",
       "      <td>Rwanda</td>\n",
       "      <td>0.540</td>\n",
       "      <td>0.369</td>\n",
       "      <td>0.946</td>\n",
       "      <td>0.582</td>\n",
       "      <td>0.253</td>\n",
       "      <td>3.471</td>\n",
       "      <td>0.326</td>\n",
       "      <td>NaN</td>\n",
       "      <td>NaN</td>\n",
       "      <td>NaN</td>\n",
       "      <td>0.455</td>\n",
       "      <td>NaN</td>\n",
       "      <td>3.543</td>\n",
       "      <td>3.399</td>\n",
       "      <td>2017</td>\n",
       "    </tr>\n",
       "    <tr>\n",
       "      <th>151</th>\n",
       "      <td>Syria</td>\n",
       "      <td>1.062</td>\n",
       "      <td>0.777</td>\n",
       "      <td>0.396</td>\n",
       "      <td>0.082</td>\n",
       "      <td>0.494</td>\n",
       "      <td>3.462</td>\n",
       "      <td>0.501</td>\n",
       "      <td>NaN</td>\n",
       "      <td>NaN</td>\n",
       "      <td>NaN</td>\n",
       "      <td>0.151</td>\n",
       "      <td>NaN</td>\n",
       "      <td>3.664</td>\n",
       "      <td>3.260</td>\n",
       "      <td>2017</td>\n",
       "    </tr>\n",
       "    <tr>\n",
       "      <th>152</th>\n",
       "      <td>Tanzania</td>\n",
       "      <td>0.621</td>\n",
       "      <td>0.511</td>\n",
       "      <td>1.042</td>\n",
       "      <td>0.390</td>\n",
       "      <td>0.354</td>\n",
       "      <td>3.349</td>\n",
       "      <td>0.365</td>\n",
       "      <td>NaN</td>\n",
       "      <td>NaN</td>\n",
       "      <td>NaN</td>\n",
       "      <td>0.066</td>\n",
       "      <td>NaN</td>\n",
       "      <td>3.461</td>\n",
       "      <td>3.237</td>\n",
       "      <td>2017</td>\n",
       "    </tr>\n",
       "    <tr>\n",
       "      <th>153</th>\n",
       "      <td>Burundi</td>\n",
       "      <td>1.683</td>\n",
       "      <td>0.092</td>\n",
       "      <td>0.630</td>\n",
       "      <td>0.060</td>\n",
       "      <td>0.204</td>\n",
       "      <td>2.905</td>\n",
       "      <td>0.152</td>\n",
       "      <td>NaN</td>\n",
       "      <td>NaN</td>\n",
       "      <td>NaN</td>\n",
       "      <td>0.084</td>\n",
       "      <td>NaN</td>\n",
       "      <td>3.075</td>\n",
       "      <td>2.735</td>\n",
       "      <td>2017</td>\n",
       "    </tr>\n",
       "    <tr>\n",
       "      <th>154</th>\n",
       "      <td>Central African Republic</td>\n",
       "      <td>2.066</td>\n",
       "      <td>0.000</td>\n",
       "      <td>0.000</td>\n",
       "      <td>0.271</td>\n",
       "      <td>0.281</td>\n",
       "      <td>2.693</td>\n",
       "      <td>0.019</td>\n",
       "      <td>NaN</td>\n",
       "      <td>NaN</td>\n",
       "      <td>NaN</td>\n",
       "      <td>0.057</td>\n",
       "      <td>NaN</td>\n",
       "      <td>2.865</td>\n",
       "      <td>2.521</td>\n",
       "      <td>2017</td>\n",
       "    </tr>\n",
       "  </tbody>\n",
       "</table>\n",
       "</div>"
      ],
      "text/plain": [
       "                      Country  Dystopia Residual  Economy (GDP per Capita)  \\\n",
       "150                    Rwanda              0.540                     0.369   \n",
       "151                     Syria              1.062                     0.777   \n",
       "152                  Tanzania              0.621                     0.511   \n",
       "153                   Burundi              1.683                     0.092   \n",
       "154  Central African Republic              2.066                     0.000   \n",
       "\n",
       "     Family  Freedom  Generosity  Happiness Score  Health (Life Expectancy)  \\\n",
       "150   0.946    0.582       0.253            3.471                     0.326   \n",
       "151   0.396    0.082       0.494            3.462                     0.501   \n",
       "152   1.042    0.390       0.354            3.349                     0.365   \n",
       "153   0.630    0.060       0.204            2.905                     0.152   \n",
       "154   0.000    0.271       0.281            2.693                     0.019   \n",
       "\n",
       "     Lower Confidence Interval Region  Standard Error  \\\n",
       "150                        NaN    NaN             NaN   \n",
       "151                        NaN    NaN             NaN   \n",
       "152                        NaN    NaN             NaN   \n",
       "153                        NaN    NaN             NaN   \n",
       "154                        NaN    NaN             NaN   \n",
       "\n",
       "     Trust (Government Corruption)  Upper Confidence Interval  Whisker-high  \\\n",
       "150                          0.455                        NaN         3.543   \n",
       "151                          0.151                        NaN         3.664   \n",
       "152                          0.066                        NaN         3.461   \n",
       "153                          0.084                        NaN         3.075   \n",
       "154                          0.057                        NaN         2.865   \n",
       "\n",
       "     Whisker-low  Year  \n",
       "150        3.399  2017  \n",
       "151        3.260  2017  \n",
       "152        3.237  2017  \n",
       "153        2.735  2017  \n",
       "154        2.521  2017  "
      ]
     },
     "execution_count": 121,
     "metadata": {},
     "output_type": "execute_result"
    }
   ],
   "source": [
    "df.tail()"
   ]
  },
  {
   "cell_type": "code",
   "execution_count": 122,
   "metadata": {
    "collapsed": false
   },
   "outputs": [
    {
     "name": "stdout",
     "output_type": "stream",
     "text": [
      "Number of countries with happiness score in 2015: 158\n",
      "Number of countries with happiness score in 2016: 157\n",
      "Number of countries with happiness score in 2017: 155\n"
     ]
    }
   ],
   "source": [
    "# Find out which countries have happiness score for all three years (2015, 2016, 2017)\n",
    "country_2015 = df[df[\"Year\"]==\"2015\"][\"Country\"].unique()\n",
    "country_2016 = df[df[\"Year\"]==\"2016\"][\"Country\"].unique()\n",
    "country_2017 = df[df[\"Year\"]==\"2017\"][\"Country\"].unique()\n",
    "\n",
    "print(\"Number of countries with happiness score in 2015: {}\".format(len(country_2015)))\n",
    "print(\"Number of countries with happiness score in 2016: {}\".format(len(country_2016)))\n",
    "print(\"Number of countries with happiness score in 2017: {}\".format(len(country_2017)))"
   ]
  },
  {
   "cell_type": "code",
   "execution_count": 123,
   "metadata": {
    "collapsed": false
   },
   "outputs": [],
   "source": [
    "# Keep only those countries in the df\n",
    "\n",
    "inter_countries = []\n",
    "for country in country_2017:\n",
    "    if (country in country_2016) and (country in country_2015):\n",
    "        inter_countries.append(country)\n",
    "\n",
    "df = df.loc[df[\"Country\"].isin(inter_countries)]"
   ]
  },
  {
   "cell_type": "code",
   "execution_count": 124,
   "metadata": {
    "collapsed": false
   },
   "outputs": [],
   "source": [
    "# Create a lookup table to map regions\n",
    "region_lookup = df[df['Year'] == \"2015\"][[\"Country\", \"Region\"]].set_index(\"Country\")\n",
    "region_lookup_dict = region_lookup.to_dict()[\"Region\"]"
   ]
  },
  {
   "cell_type": "code",
   "execution_count": 125,
   "metadata": {
    "collapsed": false
   },
   "outputs": [
    {
     "name": "stdout",
     "output_type": "stream",
     "text": [
      "Number of missing regions initially: 146\n",
      "Number of missing regions now:   0\n"
     ]
    }
   ],
   "source": [
    "# Map missing regions to countries\n",
    "missing_regions_before = df[\"Region\"].isnull().sum()\n",
    "\n",
    "df[\"Region\"] = df[\"Country\"].map(region_lookup_dict)\n",
    "\n",
    "missing_regions_after = df[\"Region\"].isnull().sum()\n",
    "\n",
    "# Show regions numbers\n",
    "print(\"Number of missing regions initially: {:>3}\\nNumber of missing regions now: {:>3}\".format(missing_regions_before, missing_regions_after))"
   ]
  },
  {
   "cell_type": "code",
   "execution_count": 127,
   "metadata": {
    "collapsed": false
   },
   "outputs": [],
   "source": [
    "# Delete all statistical confidence columns not used in this visualization\n",
    "del df[\"Lower Confidence Interval\"]\n",
    "del df[\"Standard Error\"]\n",
    "del df[\"Upper Confidence Interval\"]\n",
    "del df[\"Whisker-high\"]\n",
    "del df[\"Whisker-low\"]"
   ]
  },
  {
   "cell_type": "code",
   "execution_count": 128,
   "metadata": {
    "collapsed": false
   },
   "outputs": [
    {
     "data": {
      "text/html": [
       "<div>\n",
       "<table border=\"1\" class=\"dataframe\">\n",
       "  <thead>\n",
       "    <tr style=\"text-align: right;\">\n",
       "      <th></th>\n",
       "      <th>Country</th>\n",
       "      <th>Dystopia Residual</th>\n",
       "      <th>Economy (GDP per Capita)</th>\n",
       "      <th>Family</th>\n",
       "      <th>Freedom</th>\n",
       "      <th>Generosity</th>\n",
       "      <th>Happiness Score</th>\n",
       "      <th>Health (Life Expectancy)</th>\n",
       "      <th>Region</th>\n",
       "      <th>Trust (Government Corruption)</th>\n",
       "      <th>Year</th>\n",
       "    </tr>\n",
       "  </thead>\n",
       "  <tbody>\n",
       "    <tr>\n",
       "      <th>0</th>\n",
       "      <td>Switzerland</td>\n",
       "      <td>2.51738</td>\n",
       "      <td>1.39651</td>\n",
       "      <td>1.34951</td>\n",
       "      <td>0.66557</td>\n",
       "      <td>0.29678</td>\n",
       "      <td>7.587</td>\n",
       "      <td>0.94143</td>\n",
       "      <td>Western Europe</td>\n",
       "      <td>0.41978</td>\n",
       "      <td>2015</td>\n",
       "    </tr>\n",
       "    <tr>\n",
       "      <th>1</th>\n",
       "      <td>Iceland</td>\n",
       "      <td>2.70201</td>\n",
       "      <td>1.30232</td>\n",
       "      <td>1.40223</td>\n",
       "      <td>0.62877</td>\n",
       "      <td>0.43630</td>\n",
       "      <td>7.561</td>\n",
       "      <td>0.94784</td>\n",
       "      <td>Western Europe</td>\n",
       "      <td>0.14145</td>\n",
       "      <td>2015</td>\n",
       "    </tr>\n",
       "    <tr>\n",
       "      <th>2</th>\n",
       "      <td>Denmark</td>\n",
       "      <td>2.49204</td>\n",
       "      <td>1.32548</td>\n",
       "      <td>1.36058</td>\n",
       "      <td>0.64938</td>\n",
       "      <td>0.34139</td>\n",
       "      <td>7.527</td>\n",
       "      <td>0.87464</td>\n",
       "      <td>Western Europe</td>\n",
       "      <td>0.48357</td>\n",
       "      <td>2015</td>\n",
       "    </tr>\n",
       "    <tr>\n",
       "      <th>3</th>\n",
       "      <td>Norway</td>\n",
       "      <td>2.46531</td>\n",
       "      <td>1.45900</td>\n",
       "      <td>1.33095</td>\n",
       "      <td>0.66973</td>\n",
       "      <td>0.34699</td>\n",
       "      <td>7.522</td>\n",
       "      <td>0.88521</td>\n",
       "      <td>Western Europe</td>\n",
       "      <td>0.36503</td>\n",
       "      <td>2015</td>\n",
       "    </tr>\n",
       "    <tr>\n",
       "      <th>4</th>\n",
       "      <td>Canada</td>\n",
       "      <td>2.45176</td>\n",
       "      <td>1.32629</td>\n",
       "      <td>1.32261</td>\n",
       "      <td>0.63297</td>\n",
       "      <td>0.45811</td>\n",
       "      <td>7.427</td>\n",
       "      <td>0.90563</td>\n",
       "      <td>North America</td>\n",
       "      <td>0.32957</td>\n",
       "      <td>2015</td>\n",
       "    </tr>\n",
       "  </tbody>\n",
       "</table>\n",
       "</div>"
      ],
      "text/plain": [
       "       Country  Dystopia Residual  Economy (GDP per Capita)   Family  Freedom  \\\n",
       "0  Switzerland            2.51738                   1.39651  1.34951  0.66557   \n",
       "1      Iceland            2.70201                   1.30232  1.40223  0.62877   \n",
       "2      Denmark            2.49204                   1.32548  1.36058  0.64938   \n",
       "3       Norway            2.46531                   1.45900  1.33095  0.66973   \n",
       "4       Canada            2.45176                   1.32629  1.32261  0.63297   \n",
       "\n",
       "   Generosity  Happiness Score  Health (Life Expectancy)          Region  \\\n",
       "0     0.29678            7.587                   0.94143  Western Europe   \n",
       "1     0.43630            7.561                   0.94784  Western Europe   \n",
       "2     0.34139            7.527                   0.87464  Western Europe   \n",
       "3     0.34699            7.522                   0.88521  Western Europe   \n",
       "4     0.45811            7.427                   0.90563   North America   \n",
       "\n",
       "   Trust (Government Corruption)  Year  \n",
       "0                        0.41978  2015  \n",
       "1                        0.14145  2015  \n",
       "2                        0.48357  2015  \n",
       "3                        0.36503  2015  \n",
       "4                        0.32957  2015  "
      ]
     },
     "execution_count": 128,
     "metadata": {},
     "output_type": "execute_result"
    }
   ],
   "source": [
    "# Final data\n",
    "df.head()"
   ]
  },
  {
   "cell_type": "code",
   "execution_count": 132,
   "metadata": {
    "collapsed": false
   },
   "outputs": [],
   "source": [
    "# Export to csv for checkpoint\n",
    "path = os.getcwd()+\"/cleaned.csv\"\n",
    "df.to_csv(path, index=False)"
   ]
  },
  {
   "cell_type": "markdown",
   "metadata": {},
   "source": [
    "## Checkpoint\n",
    "Resume from here"
   ]
  },
  {
   "cell_type": "code",
   "execution_count": 2,
   "metadata": {
    "collapsed": false
   },
   "outputs": [],
   "source": [
    "import os, csv, pandas as pd, seaborn, json\n",
    "from ggplot import *\n",
    "from pprint import pprint\n",
    "\n",
    "path = os.getcwd()+\"/cleaned.csv\"\n",
    "df = get_csv(path)\n",
    "df[\"Year\"] = pd.to_datetime(df[\"Year\"], format=\"%Y\").dt.year"
   ]
  },
  {
   "cell_type": "code",
   "execution_count": 3,
   "metadata": {
    "collapsed": false
   },
   "outputs": [
    {
     "data": {
      "text/html": [
       "<div>\n",
       "<table border=\"1\" class=\"dataframe\">\n",
       "  <thead>\n",
       "    <tr style=\"text-align: right;\">\n",
       "      <th></th>\n",
       "      <th>Country</th>\n",
       "      <th>Dystopia Residual</th>\n",
       "      <th>Economy (GDP per Capita)</th>\n",
       "      <th>Family</th>\n",
       "      <th>Freedom</th>\n",
       "      <th>Generosity</th>\n",
       "      <th>Happiness Score</th>\n",
       "      <th>Health (Life Expectancy)</th>\n",
       "      <th>Region</th>\n",
       "      <th>Trust (Government Corruption)</th>\n",
       "      <th>Year</th>\n",
       "    </tr>\n",
       "  </thead>\n",
       "  <tbody>\n",
       "    <tr>\n",
       "      <th>433</th>\n",
       "      <td>Togo</td>\n",
       "      <td>1.837</td>\n",
       "      <td>0.305</td>\n",
       "      <td>0.432</td>\n",
       "      <td>0.380</td>\n",
       "      <td>0.197</td>\n",
       "      <td>3.495</td>\n",
       "      <td>0.247</td>\n",
       "      <td>Sub-Saharan Africa</td>\n",
       "      <td>0.096</td>\n",
       "      <td>2017</td>\n",
       "    </tr>\n",
       "    <tr>\n",
       "      <th>434</th>\n",
       "      <td>Rwanda</td>\n",
       "      <td>0.540</td>\n",
       "      <td>0.369</td>\n",
       "      <td>0.946</td>\n",
       "      <td>0.582</td>\n",
       "      <td>0.253</td>\n",
       "      <td>3.471</td>\n",
       "      <td>0.326</td>\n",
       "      <td>Sub-Saharan Africa</td>\n",
       "      <td>0.455</td>\n",
       "      <td>2017</td>\n",
       "    </tr>\n",
       "    <tr>\n",
       "      <th>435</th>\n",
       "      <td>Syria</td>\n",
       "      <td>1.062</td>\n",
       "      <td>0.777</td>\n",
       "      <td>0.396</td>\n",
       "      <td>0.082</td>\n",
       "      <td>0.494</td>\n",
       "      <td>3.462</td>\n",
       "      <td>0.501</td>\n",
       "      <td>Middle East and Northern Africa</td>\n",
       "      <td>0.151</td>\n",
       "      <td>2017</td>\n",
       "    </tr>\n",
       "    <tr>\n",
       "      <th>436</th>\n",
       "      <td>Tanzania</td>\n",
       "      <td>0.621</td>\n",
       "      <td>0.511</td>\n",
       "      <td>1.042</td>\n",
       "      <td>0.390</td>\n",
       "      <td>0.354</td>\n",
       "      <td>3.349</td>\n",
       "      <td>0.365</td>\n",
       "      <td>Sub-Saharan Africa</td>\n",
       "      <td>0.066</td>\n",
       "      <td>2017</td>\n",
       "    </tr>\n",
       "    <tr>\n",
       "      <th>437</th>\n",
       "      <td>Burundi</td>\n",
       "      <td>1.683</td>\n",
       "      <td>0.092</td>\n",
       "      <td>0.630</td>\n",
       "      <td>0.060</td>\n",
       "      <td>0.204</td>\n",
       "      <td>2.905</td>\n",
       "      <td>0.152</td>\n",
       "      <td>Sub-Saharan Africa</td>\n",
       "      <td>0.084</td>\n",
       "      <td>2017</td>\n",
       "    </tr>\n",
       "  </tbody>\n",
       "</table>\n",
       "</div>"
      ],
      "text/plain": [
       "      Country  Dystopia Residual  Economy (GDP per Capita)  Family  Freedom  \\\n",
       "433      Togo              1.837                     0.305   0.432    0.380   \n",
       "434    Rwanda              0.540                     0.369   0.946    0.582   \n",
       "435     Syria              1.062                     0.777   0.396    0.082   \n",
       "436  Tanzania              0.621                     0.511   1.042    0.390   \n",
       "437   Burundi              1.683                     0.092   0.630    0.060   \n",
       "\n",
       "     Generosity  Happiness Score  Health (Life Expectancy)  \\\n",
       "433       0.197            3.495                     0.247   \n",
       "434       0.253            3.471                     0.326   \n",
       "435       0.494            3.462                     0.501   \n",
       "436       0.354            3.349                     0.365   \n",
       "437       0.204            2.905                     0.152   \n",
       "\n",
       "                              Region  Trust (Government Corruption)  Year  \n",
       "433               Sub-Saharan Africa                          0.096  2017  \n",
       "434               Sub-Saharan Africa                          0.455  2017  \n",
       "435  Middle East and Northern Africa                          0.151  2017  \n",
       "436               Sub-Saharan Africa                          0.066  2017  \n",
       "437               Sub-Saharan Africa                          0.084  2017  "
      ]
     },
     "execution_count": 3,
     "metadata": {},
     "output_type": "execute_result"
    }
   ],
   "source": [
    "df.tail()"
   ]
  },
  {
   "cell_type": "code",
   "execution_count": 134,
   "metadata": {
    "collapsed": false
   },
   "outputs": [
    {
     "data": {
      "text/html": [
       "<div>\n",
       "<table border=\"1\" class=\"dataframe\">\n",
       "  <thead>\n",
       "    <tr style=\"text-align: right;\">\n",
       "      <th></th>\n",
       "      <th>Dystopia Residual</th>\n",
       "      <th>Economy (GDP per Capita)</th>\n",
       "      <th>Family</th>\n",
       "      <th>Freedom</th>\n",
       "      <th>Generosity</th>\n",
       "      <th>Happiness Score</th>\n",
       "      <th>Health (Life Expectancy)</th>\n",
       "      <th>Trust (Government Corruption)</th>\n",
       "      <th>Year</th>\n",
       "    </tr>\n",
       "  </thead>\n",
       "  <tbody>\n",
       "    <tr>\n",
       "      <th>Dystopia Residual</th>\n",
       "      <td>1.000000</td>\n",
       "      <td>0.094236</td>\n",
       "      <td>-0.049483</td>\n",
       "      <td>0.034969</td>\n",
       "      <td>-0.108899</td>\n",
       "      <td>0.522916</td>\n",
       "      <td>0.135361</td>\n",
       "      <td>0.012158</td>\n",
       "      <td>-0.179494</td>\n",
       "    </tr>\n",
       "    <tr>\n",
       "      <th>Economy (GDP per Capita)</th>\n",
       "      <td>0.094236</td>\n",
       "      <td>1.000000</td>\n",
       "      <td>0.573964</td>\n",
       "      <td>0.363284</td>\n",
       "      <td>-0.005028</td>\n",
       "      <td>0.795575</td>\n",
       "      <td>0.776308</td>\n",
       "      <td>0.358406</td>\n",
       "      <td>0.143328</td>\n",
       "    </tr>\n",
       "    <tr>\n",
       "      <th>Family</th>\n",
       "      <td>-0.049483</td>\n",
       "      <td>0.573964</td>\n",
       "      <td>1.000000</td>\n",
       "      <td>0.455845</td>\n",
       "      <td>0.088621</td>\n",
       "      <td>0.637791</td>\n",
       "      <td>0.470235</td>\n",
       "      <td>0.188671</td>\n",
       "      <td>0.266495</td>\n",
       "    </tr>\n",
       "    <tr>\n",
       "      <th>Freedom</th>\n",
       "      <td>0.034969</td>\n",
       "      <td>0.363284</td>\n",
       "      <td>0.455845</td>\n",
       "      <td>1.000000</td>\n",
       "      <td>0.351183</td>\n",
       "      <td>0.568934</td>\n",
       "      <td>0.381546</td>\n",
       "      <td>0.493607</td>\n",
       "      <td>-0.050838</td>\n",
       "    </tr>\n",
       "    <tr>\n",
       "      <th>Generosity</th>\n",
       "      <td>-0.108899</td>\n",
       "      <td>-0.005028</td>\n",
       "      <td>0.088621</td>\n",
       "      <td>0.351183</td>\n",
       "      <td>1.000000</td>\n",
       "      <td>0.173764</td>\n",
       "      <td>0.074181</td>\n",
       "      <td>0.264460</td>\n",
       "      <td>0.033869</td>\n",
       "    </tr>\n",
       "    <tr>\n",
       "      <th>Happiness Score</th>\n",
       "      <td>0.522916</td>\n",
       "      <td>0.795575</td>\n",
       "      <td>0.637791</td>\n",
       "      <td>0.568934</td>\n",
       "      <td>0.173764</td>\n",
       "      <td>1.000000</td>\n",
       "      <td>0.758367</td>\n",
       "      <td>0.437157</td>\n",
       "      <td>-0.000353</td>\n",
       "    </tr>\n",
       "    <tr>\n",
       "      <th>Health (Life Expectancy)</th>\n",
       "      <td>0.135361</td>\n",
       "      <td>0.776308</td>\n",
       "      <td>0.470235</td>\n",
       "      <td>0.381546</td>\n",
       "      <td>0.074181</td>\n",
       "      <td>0.758367</td>\n",
       "      <td>1.000000</td>\n",
       "      <td>0.294086</td>\n",
       "      <td>-0.143107</td>\n",
       "    </tr>\n",
       "    <tr>\n",
       "      <th>Trust (Government Corruption)</th>\n",
       "      <td>0.012158</td>\n",
       "      <td>0.358406</td>\n",
       "      <td>0.188671</td>\n",
       "      <td>0.493607</td>\n",
       "      <td>0.264460</td>\n",
       "      <td>0.437157</td>\n",
       "      <td>0.294086</td>\n",
       "      <td>1.000000</td>\n",
       "      <td>-0.061814</td>\n",
       "    </tr>\n",
       "    <tr>\n",
       "      <th>Year</th>\n",
       "      <td>-0.179494</td>\n",
       "      <td>0.143328</td>\n",
       "      <td>0.266495</td>\n",
       "      <td>-0.050838</td>\n",
       "      <td>0.033869</td>\n",
       "      <td>-0.000353</td>\n",
       "      <td>-0.143107</td>\n",
       "      <td>-0.061814</td>\n",
       "      <td>1.000000</td>\n",
       "    </tr>\n",
       "  </tbody>\n",
       "</table>\n",
       "</div>"
      ],
      "text/plain": [
       "                               Dystopia Residual  Economy (GDP per Capita)  \\\n",
       "Dystopia Residual                       1.000000                  0.094236   \n",
       "Economy (GDP per Capita)                0.094236                  1.000000   \n",
       "Family                                 -0.049483                  0.573964   \n",
       "Freedom                                 0.034969                  0.363284   \n",
       "Generosity                             -0.108899                 -0.005028   \n",
       "Happiness Score                         0.522916                  0.795575   \n",
       "Health (Life Expectancy)                0.135361                  0.776308   \n",
       "Trust (Government Corruption)           0.012158                  0.358406   \n",
       "Year                                   -0.179494                  0.143328   \n",
       "\n",
       "                                 Family   Freedom  Generosity  \\\n",
       "Dystopia Residual             -0.049483  0.034969   -0.108899   \n",
       "Economy (GDP per Capita)       0.573964  0.363284   -0.005028   \n",
       "Family                         1.000000  0.455845    0.088621   \n",
       "Freedom                        0.455845  1.000000    0.351183   \n",
       "Generosity                     0.088621  0.351183    1.000000   \n",
       "Happiness Score                0.637791  0.568934    0.173764   \n",
       "Health (Life Expectancy)       0.470235  0.381546    0.074181   \n",
       "Trust (Government Corruption)  0.188671  0.493607    0.264460   \n",
       "Year                           0.266495 -0.050838    0.033869   \n",
       "\n",
       "                               Happiness Score  Health (Life Expectancy)  \\\n",
       "Dystopia Residual                     0.522916                  0.135361   \n",
       "Economy (GDP per Capita)              0.795575                  0.776308   \n",
       "Family                                0.637791                  0.470235   \n",
       "Freedom                               0.568934                  0.381546   \n",
       "Generosity                            0.173764                  0.074181   \n",
       "Happiness Score                       1.000000                  0.758367   \n",
       "Health (Life Expectancy)              0.758367                  1.000000   \n",
       "Trust (Government Corruption)         0.437157                  0.294086   \n",
       "Year                                 -0.000353                 -0.143107   \n",
       "\n",
       "                               Trust (Government Corruption)      Year  \n",
       "Dystopia Residual                                   0.012158 -0.179494  \n",
       "Economy (GDP per Capita)                            0.358406  0.143328  \n",
       "Family                                              0.188671  0.266495  \n",
       "Freedom                                             0.493607 -0.050838  \n",
       "Generosity                                          0.264460  0.033869  \n",
       "Happiness Score                                     0.437157 -0.000353  \n",
       "Health (Life Expectancy)                            0.294086 -0.143107  \n",
       "Trust (Government Corruption)                       1.000000 -0.061814  \n",
       "Year                                               -0.061814  1.000000  "
      ]
     },
     "execution_count": 134,
     "metadata": {},
     "output_type": "execute_result"
    }
   ],
   "source": [
    "# Find correlations in data to explore\n",
    "\n",
    "df.corr()"
   ]
  },
  {
   "cell_type": "code",
   "execution_count": 4,
   "metadata": {
    "collapsed": false
   },
   "outputs": [
    {
     "name": "stdout",
     "output_type": "stream",
     "text": [
      "<class 'pandas.core.frame.DataFrame'>\n",
      "RangeIndex: 438 entries, 0 to 437\n",
      "Data columns (total 11 columns):\n",
      "Country                          438 non-null object\n",
      "Dystopia Residual                438 non-null float64\n",
      "Economy (GDP per Capita)         438 non-null float64\n",
      "Family                           438 non-null float64\n",
      "Freedom                          438 non-null float64\n",
      "Generosity                       438 non-null float64\n",
      "Happiness Score                  438 non-null float64\n",
      "Health (Life Expectancy)         438 non-null float64\n",
      "Region                           438 non-null object\n",
      "Trust (Government Corruption)    438 non-null float64\n",
      "Year                             438 non-null int64\n",
      "dtypes: float64(8), int64(1), object(2)\n",
      "memory usage: 37.7+ KB\n"
     ]
    }
   ],
   "source": [
    "df.info()"
   ]
  },
  {
   "cell_type": "code",
   "execution_count": 148,
   "metadata": {
    "collapsed": false
   },
   "outputs": [
    {
     "data": {
      "image/png": "[encoded data removed]",
      "text/plain": [
       "<matplotlib.figure.Figure at 0x1101c73d0>"
      ]
     },
     "metadata": {},
     "output_type": "display_data"
    },
    {
     "data": {
      "text/plain": [
       "<ggplot: (285098985)>"
      ]
     },
     "execution_count": 148,
     "metadata": {},
     "output_type": "execute_result"
    }
   ],
   "source": [
    "# Explore data with graphs\n",
    "\n",
    "ggplot(aes(x=\"Happiness Score\"), data=df)+\\\n",
    "      geom_histogram(binwidth=1, fill='blue')"
   ]
  },
  {
   "cell_type": "code",
   "execution_count": 191,
   "metadata": {
    "collapsed": false
   },
   "outputs": [],
   "source": [
    "top_10 = []\n",
    "top_10.append(df[df[\"Year\"]==2015].head(10))\n",
    "top_10.append(df[df[\"Year\"]==2016].head(10))\n",
    "top_10.append(df[df[\"Year\"]==2017].head(10))\n",
    "\n",
    "df_t10 = pd.concat(top_10)"
   ]
  },
  {
   "cell_type": "code",
   "execution_count": 196,
   "metadata": {
    "collapsed": false
   },
   "outputs": [
    {
     "data": {
      "image/png": "[encoded data removed]",
      "text/plain": [
       "<matplotlib.figure.Figure at 0x119957090>"
      ]
     },
     "metadata": {},
     "output_type": "display_data"
    },
    {
     "data": {
      "text/plain": [
       "<ggplot: (294974221)>"
      ]
     },
     "execution_count": 196,
     "metadata": {},
     "output_type": "execute_result"
    }
   ],
   "source": [
    "ggplot(aes(x='Year', y='Happiness Score', color=\"Country\"), data=df_t10)+\\\n",
    "        geom_point(size=100)+\\\n",
    "    scale_x_continuous(breaks=[2014,2015,2016,2017,2018], labels=[\"2014\",\"2015\", \"2016\", \"2017\",\"2018\"])"
   ]
  },
  {
   "cell_type": "code",
   "execution_count": 5,
   "metadata": {
    "collapsed": false
   },
   "outputs": [],
   "source": [
    "# parse data into json for visualization\n",
    "\n",
    "schema = [\n",
    "    {\"year1: happiness_score1\",\n",
    "     \"year2: happiness_score2\",\n",
    "     \"country1: name1\"\n",
    "    },\n",
    "    {\"year1: happiness_score1\",\n",
    "     \"year2: happiness_score2\",\n",
    "     \"country2: name2\"\n",
    "    }\n",
    "]\n",
    "\n",
    "with open(path, 'rb') as f:\n",
    "    reader = csv.DictReader(f)\n",
    "    data = list(reader)"
   ]
  },
  {
   "cell_type": "code",
   "execution_count": 9,
   "metadata": {
    "collapsed": false
   },
   "outputs": [],
   "source": [
    "data_json={}\n",
    "\n",
    "for entry in data:\n",
    "    for k,v in entry.items():\n",
    "        if k == \"Country\":\n",
    "            country = v\n",
    "        if k == \"Happiness Score\":\n",
    "            happiness = v\n",
    "        if k == \"Year\":\n",
    "            year = v\n",
    "    if country not in data_json:\n",
    "        data_json[country] = {year:happiness}\n",
    "    else:\n",
    "        data_json[country].update({year:happiness})\n",
    "\n",
    "export_json = []\n",
    "for country in sorted(list(data_json.keys())):\n",
    "    data_json[country].update({\"country\": country})\n",
    "    export_json.append(data_json[country])"
   ]
  },
  {
   "cell_type": "code",
   "execution_count": 10,
   "metadata": {
    "collapsed": false
   },
   "outputs": [],
   "source": [
    "with open('data.json', 'w') as js:\n",
    "    json.dump(export_json, js, indent=4, sort_keys=True)"
   ]
  }
 ],
 "metadata": {
  "anaconda-cloud": {},
  "kernelspec": {
   "display_name": "Python [conda root]",
   "language": "python",
   "name": "conda-root-py"
  },
  "language_info": {
   "codemirror_mode": {
    "name": "ipython",
    "version": 2
   },
   "file_extension": ".py",
   "mimetype": "text/x-python",
   "name": "python",
   "nbconvert_exporter": "python",
   "pygments_lexer": "ipython2",
   "version": "2.7.13"
  }
 },
 "nbformat": 4,
 "nbformat_minor": 2
}
